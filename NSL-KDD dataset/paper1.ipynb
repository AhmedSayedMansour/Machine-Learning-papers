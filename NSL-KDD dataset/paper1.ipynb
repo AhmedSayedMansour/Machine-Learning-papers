{
 "metadata": {
  "language_info": {
   "codemirror_mode": {
    "name": "ipython",
    "version": 3
   },
   "file_extension": ".py",
   "mimetype": "text/x-python",
   "name": "python",
   "nbconvert_exporter": "python",
   "pygments_lexer": "ipython3",
   "version": "3.8.3"
  },
  "orig_nbformat": 2,
  "kernelspec": {
   "name": "python38364bit4dfe1084565b4ea1bbdede2652201ad5",
   "display_name": "Python 3.8.3 64-bit"
  },
  "metadata": {
   "interpreter": {
    "hash": "22e98dc126c11ed8b7da0abd0314319f11fb1123801a9053e96dbd9ca057f78a"
   }
  }
 },
 "nbformat": 4,
 "nbformat_minor": 2,
 "cells": [
  {
   "cell_type": "code",
   "execution_count": 1,
   "metadata": {},
   "outputs": [],
   "source": [
    "import matplotlib.pyplot as plt;\n",
    "import pandas as pd\n",
    "import numpy as np\n",
    "from sklearn import preprocessing\n",
    "from sklearn.cluster import KMeans\n",
    "from kneed import DataGenerator, KneeLocator\n",
    "from sklearn.neighbors import KNeighborsRegressor\n",
    "from sklearn.metrics import accuracy_score\n",
    "from sklearn import metrics"
   ]
  },
  {
   "cell_type": "code",
   "execution_count": 2,
   "metadata": {},
   "outputs": [],
   "source": [
    "path=r''\n",
    "traData = pd.read_csv(path+'trainingGroup.csv',index_col=None, header=None)\n",
    "#traData = pd.read_csv('D:\\\\drive\\\\publications_2017\\\\datasets\\\\NSL-KDD\\\\NSL-KDD\\\\testingData.csv'  , index_col = None , header = None)\n",
    "tesData = pd.read_csv(path+'testingGroup.csv',index_col=None, header=None)\n",
    "target = 41\n",
    "\n",
    "y_train = traData[[target]].values.reshape(len(traData)) \n",
    "x_train = preprocessing.normalize(traData.iloc[:,:-1])\n",
    "\n",
    "y_test = tesData[[target]].values.reshape(len(tesData)) \n",
    "x_test = preprocessing.normalize(tesData.iloc[:,:-1])"
   ]
  },
  {
   "cell_type": "code",
   "execution_count": 3,
   "metadata": {},
   "outputs": [],
   "source": [
    "def chooseObsMan(dic_f):\n",
    "    chosenIDs=np.array(())\n",
    "    for k,d in dic_f.items():\n",
    "        temp=np.where(y_train==k)[0]\n",
    "        z=np.random.choice(temp,dic_f[k],replace=False)\n",
    "        chosenIDs=np.concatenate((chosenIDs,z))\n",
    "    return np.int64(chosenIDs)\n",
    "def label_index(row,threshold=0):\n",
    "    \n",
    "    if threshold==0:\n",
    "        threshold=np.max(row)\n",
    "    temp_i=np.where(row>=threshold)[0]\n",
    "    if temp_i.shape[0]>0:\n",
    "        return temp_i[0]+1\n",
    "    else:\n",
    "        return -1"
   ]
  },
  {
   "cell_type": "code",
   "execution_count": 4,
   "metadata": {},
   "outputs": [],
   "source": [
    "labelled=np.zeros(x_train.shape[0])\n",
    "labelled[:]=-1\n",
    "li={1:60,2:60,3:30,4:10,5:10}\n",
    "labelledIndex=chooseObsMan(li)\n",
    "labelled[labelledIndex]=y_train[labelledIndex]"
   ]
  },
  {
   "cell_type": "code",
   "execution_count": 5,
   "metadata": {},
   "outputs": [],
   "source": [
    "#method to find the nearest clusters :--- output is 5\n",
    "def findBestclusters():\n",
    "    kmeans_kwargs = { \"init\": \"random\", \"n_init\": 10, \"max_iter\": 300, \"random_state\": 42, }\n",
    "    # A list holds the SSE values for each k\n",
    "    sse = []\n",
    "    for k in range(1, 25):\n",
    "        kmeans = KMeans(n_clusters=k, **kmeans_kwargs)\n",
    "        kmeans.fit(x_train)\n",
    "        sse.append(kmeans.inertia_)\n",
    "\n",
    "    plt.style.use(\"fivethirtyeight\")\n",
    "    plt.plot(range(1, 25), sse)\n",
    "    plt.xticks(range(1, 25))\n",
    "    plt.xlabel(\"Number of Clusters\")\n",
    "    plt.ylabel(\"SSE\")\n",
    "    plt.show()\n",
    "\n",
    "    kl = KneeLocator(range(1, 25), sse, curve=\"convex\", direction=\"decreasing\")\n",
    "    return kl.elbow    #result is 5\n",
    "\n",
    "#print(findBestclusters())"
   ]
  },
  {
   "cell_type": "code",
   "execution_count": 6,
   "metadata": {},
   "outputs": [],
   "source": [
    "kmeans = KMeans( init=\"random\", n_clusters=10, n_init=10, max_iter=300, random_state=42).fit(x_train)"
   ]
  },
  {
   "cell_type": "code",
   "execution_count": 7,
   "metadata": {},
   "outputs": [],
   "source": [
    "# Final locations of the centroid\n",
    "#print(kmeans.cluster_centers_)\n",
    "\n",
    "# The number of iterations required to converge\n",
    "#print(kmeans.n_iter_)"
   ]
  },
  {
   "cell_type": "code",
   "execution_count": 8,
   "metadata": {},
   "outputs": [
    {
     "output_type": "stream",
     "name": "stdout",
     "text": [
      "total number of points in each cluster: \n\n          normal    DoS  Probe  R2L  U2R\nCluster0    2937     50   3720    7    0\nCluster1      19  16075    470    0    0\nCluster2   10630      0      8   51    2\nCluster3   11707   3526    251  582    0\nCluster4    2706   5054   3705    1    4\nCluster5      11  20670   1896    0    0\nCluster6   27259      0     34  313   46\nCluster7    1686      0   1021   32    0\nCluster8    3776    153    123    1    0\nCluster9    6612    399    428    8    0\n\nLABEL OF EACH CLUSTER :\ncluster0-->Probe\ncluster1-->DoS\ncluster2-->normal\ncluster3-->R2L\ncluster4-->Probe\ncluster5-->DoS\ncluster6-->U2R\ncluster7-->Probe\ncluster8-->normal\ncluster9-->normal\n"
     ]
    }
   ],
   "source": [
    "clusters = np.full((10, 6), 0, dtype=int)\n",
    "for i in range(kmeans.labels_.shape[0]):\n",
    "    clusters[ kmeans.labels_[i] ][ y_train[i] ] = clusters[ kmeans.labels_[i] ][ y_train[i] ] + 1\n",
    "\n",
    "df = pd.DataFrame(clusters[:,1:11]\n",
    "                    , index = [\"Cluster0\", \"Cluster1\", \"Cluster2\", \"Cluster3\", \"Cluster4\",\"Cluster5\", \"Cluster6\", \"Cluster7\", \"Cluster8\", \"Cluster9\"]\n",
    "                    , columns=['normal', 'DoS', 'Probe', 'R2L', 'U2R'])\n",
    "print('total number of points in each cluster: \\n')\n",
    "print(df)\n",
    "#print(clusters)\n",
    "print('\\nLABEL OF EACH CLUSTER :\\ncluster0-->Probe\\ncluster1-->DoS\\ncluster2-->normal\\ncluster3-->R2L\\ncluster4-->Probe\\ncluster5-->DoS\\ncluster6-->U2R')\n",
    "print('cluster7-->Probe\\ncluster8-->normal\\ncluster9-->normal')"
   ]
  },
  {
   "cell_type": "code",
   "execution_count": 9,
   "metadata": {},
   "outputs": [],
   "source": [
    "#KNN model using Kmeans results\n",
    "clustering_out = [3, 2, 1, 4, 3, 2, 5, 3, 1, 1]\n",
    "clustering_out_label = ['Probe', 'DoS', 'normal', 'R2L', 'Probe', 'DoS', 'U2R', 'Probe', 'normal', 'normal']"
   ]
  },
  {
   "cell_type": "code",
   "execution_count": 10,
   "metadata": {},
   "outputs": [
    {
     "output_type": "execute_result",
     "data": {
      "text/plain": [
       "KNeighborsRegressor(n_neighbors=1)"
      ]
     },
     "metadata": {},
     "execution_count": 10
    }
   ],
   "source": [
    "knn_model = KNeighborsRegressor(n_neighbors=1)\n",
    "knn_model.fit(kmeans.cluster_centers_, clustering_out)"
   ]
  },
  {
   "cell_type": "code",
   "execution_count": 11,
   "metadata": {},
   "outputs": [
    {
     "output_type": "stream",
     "name": "stdout",
     "text": [
      "0.5305660736824558\n"
     ]
    }
   ],
   "source": [
    "train_preds = knn_model.predict(x_train)\n",
    "print((train_preds == y_train).mean())"
   ]
  },
  {
   "cell_type": "code",
   "execution_count": 12,
   "metadata": {},
   "outputs": [
    {
     "output_type": "stream",
     "name": "stdout",
     "text": [
      "                    normal           DoS         Probe         R2L        U2R\n0  Precision      0.947141      0.938785      0.403671    0.036226   0.001664\n1     Recall      0.312104      0.800074      0.724605    0.584925   0.884615\n2     Fscore      0.469498      0.863897      0.518494    0.068226   0.003321\n3    Support  67343.000000  45927.000000  11656.000000  995.000000  52.000000\n[66837, 59136.0]\n        Total Correct Incorrect\nnormal  67343   21018     46325\nDoS     45927   36745      9182\nProbe   11656    8446      3210\nR2L       995     582       413\nU2R        52      46         6\n"
     ]
    }
   ],
   "source": [
    "matrices = metrics.precision_recall_fscore_support(y_train, train_preds,labels=[1, 2, 3, 4, 5])\n",
    "resultsDataFrame = pd.DataFrame()\n",
    "for i in range(0,len(matrices)):\n",
    "    temp = pd.DataFrame([matrices[i]],columns=['normal','DoS','Probe','R2L','U2R'])\n",
    "    resultsDataFrame = resultsDataFrame.append(temp, ignore_index=True)\n",
    "resultsDataFrame.insert(0,'  ',['Precision','Recall','Fscore','Support'])\n",
    "print(resultsDataFrame)\n",
    "\n",
    "correctLabelled=metrics.accuracy_score(y_train, train_preds,normalize=False)\n",
    "incorrectLabelled=sum(resultsDataFrame.iloc[3,1:]) - correctLabelled\n",
    "print([correctLabelled,incorrectLabelled])\n",
    "\n",
    "numbers=resultsDataFrame.iloc[3,1:]\n",
    "correctLabelledForEachclass=resultsDataFrame.iloc[3,1:] *resultsDataFrame.iloc[1,1:]\n",
    "incorrectLabelledForEachclass=resultsDataFrame.iloc[3,1:]-correctLabelledForEachclass\n",
    "results1 = pd.DataFrame(columns = ['Total','Correct', 'Incorrect'])\n",
    "results1['Total'] = numbers\n",
    "results1['Correct'] = correctLabelledForEachclass\n",
    "results1['Incorrect'] = incorrectLabelledForEachclass\n",
    "print(results1)"
   ]
  },
  {
   "cell_type": "code",
   "execution_count": null,
   "metadata": {},
   "outputs": [],
   "source": []
  }
 ]
}
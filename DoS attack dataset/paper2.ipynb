{
 "metadata": {
  "language_info": {
   "codemirror_mode": {
    "name": "ipython",
    "version": 3
   },
   "file_extension": ".py",
   "mimetype": "text/x-python",
   "name": "python",
   "nbconvert_exporter": "python",
   "pygments_lexer": "ipython3",
   "version": "3.8.3"
  },
  "orig_nbformat": 4,
  "kernelspec": {
   "name": "python3",
   "display_name": "Python 3.8.3 64-bit"
  },
  "interpreter": {
   "hash": "22e98dc126c11ed8b7da0abd0314319f11fb1123801a9053e96dbd9ca057f78a"
  }
 },
 "nbformat": 4,
 "nbformat_minor": 2,
 "cells": [
  {
   "cell_type": "code",
   "execution_count": 1,
   "metadata": {},
   "outputs": [],
   "source": [
    "import matplotlib.pyplot as plt;\n",
    "import pandas as pd\n",
    "import numpy as np\n",
    "from sklearn import preprocessing\n",
    "from kneed import DataGenerator, KneeLocator\n",
    "from sklearn.metrics import accuracy_score\n",
    "from sklearn import metrics\n",
    "import tensorflow as tf\n",
    "from tensorflow import keras\n",
    "from tensorflow.keras import layers\n",
    "from sklearn.datasets import make_classification\n",
    "from sklearn.naive_bayes import GaussianNB\n",
    "from sklearn.calibration import CalibratedClassifierCV\n",
    "from sklearn.naive_bayes import BernoulliNB"
   ]
  },
  {
   "cell_type": "code",
   "execution_count": 2,
   "metadata": {},
   "outputs": [],
   "source": [
    "trainSize = 400000\n",
    "testSize = 50000\n",
    "size = trainSize+testSize # 400000 for taining and 50000 for testing\n",
    "data = pd.read_csv(\"mixed.csv\", nrows=size)\n",
    "data = data.drop(columns=\"No.\")\n",
    "columns_titles = [\"Time\", \"Source\", \"Destination\", \"Length\", \"Info\", \"Protocol\"]\n",
    "data = data.reindex(columns=columns_titles)\n",
    "label_names = np.unique(data.iloc[:,5])\n",
    "\n",
    "le = preprocessing.LabelEncoder()\n",
    "data.iloc[:,1] = le.fit_transform(data.iloc[:,1])\n",
    "data.iloc[:,2] = le.fit_transform(data.iloc[:,2])\n",
    "data.iloc[:,4] = le.fit_transform(data.iloc[:,4])\n",
    "data.iloc[:,5] = le.fit_transform(data.iloc[:,5])\n",
    "\n",
    "def chooseObsMan(dic_f):\n",
    "    chosenIDs=np.array(())\n",
    "    for k,d in dic_f.items():\n",
    "        temp=np.where(y_train==k)[0]\n",
    "        if temp.size < dic_f[k]:\n",
    "            temp = dic_f[k]\n",
    "        z=np.random.choice(temp,dic_f[k],replace=False)\n",
    "        chosenIDs=np.concatenate((chosenIDs,z))\n",
    "    return np.int64(chosenIDs)\n",
    "def label_index(row,threshold=0):\n",
    "    \n",
    "    if threshold==0:\n",
    "        threshold=np.max(row)\n",
    "    temp_i=np.where(row>=threshold)[0]\n",
    "    if temp_i.shape[0]>0:\n",
    "        return temp_i[0]+1\n",
    "    else:\n",
    "        return -1\n",
    "\n",
    "y_train = data.iloc[:trainSize,5]\n",
    "x_train = data.iloc[:trainSize,:-1]\n",
    "#x_train = preprocessing.normalize(data.iloc[:trainSize,:-1])\n",
    "\n",
    "y_test = data.iloc[trainSize:,5]\n",
    "x_test = data.iloc[trainSize:,:-1]\n",
    "#x_test = preprocessing.normalize(data.iloc[trainSize:,:-1])\n",
    "\n",
    "li = {}\n",
    "r = int(size/100000 + 1)*30\n",
    "for i in np.unique(data.iloc[:,-1]):\n",
    "    if data['Protocol'].value_counts()[i] < r:\n",
    "        li.update({i : data['Protocol'].value_counts()[i]})    \n",
    "    else :\n",
    "        li.update({i : r})\n",
    "\n",
    "labelled=np.zeros(x_train.shape[0])\n",
    "labelled[:]=-1\n",
    "labelledIndex=chooseObsMan(li)\n",
    "labelled[labelledIndex]=y_train[labelledIndex]"
   ]
  },
  {
   "cell_type": "code",
   "execution_count": 3,
   "metadata": {},
   "outputs": [
    {
     "output_type": "execute_result",
     "data": {
      "text/plain": [
       "BernoulliNB()"
      ]
     },
     "metadata": {},
     "execution_count": 3
    }
   ],
   "source": [
    "clf = BernoulliNB()\n",
    "clf.fit(x_train, y_train)"
   ]
  },
  {
   "cell_type": "code",
   "execution_count": 4,
   "metadata": {},
   "outputs": [],
   "source": [
    "predicted = clf.predict(x_train)"
   ]
  },
  {
   "cell_type": "code",
   "execution_count": 5,
   "metadata": {},
   "outputs": [
    {
     "output_type": "stream",
     "name": "stdout",
     "text": [
      "0.6544225\n"
     ]
    }
   ],
   "source": [
    "print((predicted == y_train).mean())"
   ]
  },
  {
   "cell_type": "code",
   "execution_count": 9,
   "metadata": {},
   "outputs": [
    {
     "output_type": "stream",
     "name": "stdout",
     "text": [
      "------------------------------------Paper 2---------------------------------------\n",
      "\n",
      "*********Training*********\n",
      "\n",
      "                 ARP  BROWSER       DHCP  DHCPv6     DNS      FTP  FTP-DATA  \\\n",
      "0  Precision     0.0      0.0   1.000000     0.0     0.0      0.0       0.0   \n",
      "1     Recall     0.0      0.0   0.028571     0.0     0.0      0.0       0.0   \n",
      "2     Fscore     0.0      0.0   0.055556     0.0     0.0      0.0       0.0   \n",
      "3    Support  5363.0   1190.0  35.000000   329.0  8390.0  28991.0    1604.0   \n",
      "\n",
      "      HTTP  HTTP/XML  ...    NBNS    NBSS  NTP  OCSP  PKIX-CRL     POP  \\\n",
      "0      0.0       0.0  ...     0.0     0.0  0.0   0.0       0.0     0.0   \n",
      "1      0.0       0.0  ...     0.0     0.0  0.0   0.0       0.0     0.0   \n",
      "2      0.0       0.0  ...     0.0     0.0  0.0   0.0       0.0     0.0   \n",
      "3  33507.0      91.0  ...  1442.0  1110.0  4.0   1.0       2.0  7497.0   \n",
      "\n",
      "      SMB   SMTP            TCP   TLSv1  \n",
      "0     0.0    0.0       0.654332     0.0  \n",
      "1     0.0    0.0       1.000000     0.0  \n",
      "2     0.0    0.0       0.791053     0.0  \n",
      "3  6970.0  630.0  261664.000000  4833.0  \n",
      "\n",
      "[4 rows x 28 columns]\n",
      "C:\\Users\\Ahmed Sayed Mansour\\AppData\\Local\\Programs\\Python\\Python38\\lib\\site-packages\\sklearn\\metrics\\_classification.py:1221: UndefinedMetricWarning: Precision and F-score are ill-defined and being set to 0.0 in labels with no predicted samples. Use `zero_division` parameter to control this behavior.\n",
      "  _warn_prf(average, modifier, msg_start, len(result))\n"
     ]
    }
   ],
   "source": [
    "print(\"------------------------------------Paper 2---------------------------------------\")\n",
    "\n",
    "print('\\n*********Training*********\\n')\n",
    "\n",
    "matrices = metrics.precision_recall_fscore_support(y_train, predicted)\n",
    "resultsDataFrame = pd.DataFrame()\n",
    "for i in range(0,len(matrices)):\n",
    "    temp = pd.DataFrame([matrices[i]],columns=label_names)\n",
    "    resultsDataFrame = resultsDataFrame.append(temp, ignore_index=True)\n",
    "resultsDataFrame.insert(0,'  ',['Precision','Recall','Fscore','Support'])\n",
    "print(resultsDataFrame)"
   ]
  },
  {
   "cell_type": "code",
   "execution_count": 7,
   "metadata": {},
   "outputs": [
    {
     "output_type": "stream",
     "name": "stdout",
     "text": [
      "[261769, 138231.0]\n"
     ]
    }
   ],
   "source": [
    "correctLabelled=metrics.accuracy_score(y_train, predicted,normalize=False)\n",
    "incorrectLabelled=sum(resultsDataFrame.iloc[3,1:]) - correctLabelled\n",
    "print([correctLabelled,incorrectLabelled])"
   ]
  },
  {
   "cell_type": "code",
   "execution_count": 10,
   "metadata": {},
   "outputs": [
    {
     "output_type": "stream",
     "name": "stdout",
     "text": [
      "           Total Correct Incorrect\nARP         5363       0      5363\nBROWSER     1190       0      1190\nDHCP          35       1        34\nDHCPv6       329       0       329\nDNS         8390       0      8390\nFTP        28991       0     28991\nFTP-DATA    1604       0      1604\nHTTP       33507       0     33507\nHTTP/XML      91       0        91\nICMP           1       0         1\nICMPv6        28       0        28\nIGMPv3        30       0        30\nIMAP        6148       0      6148\nIMAP/IMF     103     103         0\nLANMAN      1172       0      1172\nLLMNR         28       0        28\nMDNS       28837       1     28836\nNBNS        1442       0      1442\nNBSS        1110       0      1110\nNTP            4       0         4\nOCSP           1       0         1\nPKIX-CRL       2       0         2\nPOP         7497       0      7497\nSMB         6970       0      6970\nSMTP         630       0       630\nTCP       261664  261664         0\nTLSv1       4833       0      4833\n"
     ]
    }
   ],
   "source": [
    "numbers=resultsDataFrame.iloc[3,1:]\n",
    "correctLabelledForEachclass=resultsDataFrame.iloc[3,1:] *resultsDataFrame.iloc[1,1:]\n",
    "incorrectLabelledForEachclass=resultsDataFrame.iloc[3,1:]-correctLabelledForEachclass\n",
    "results1 = pd.DataFrame(columns = ['Total','Correct', 'Incorrect'])\n",
    "results1['Total'] = numbers\n",
    "results1['Correct'] = correctLabelledForEachclass\n",
    "results1['Incorrect'] = incorrectLabelledForEachclass\n",
    "print(results1)\n"
   ]
  },
  {
   "cell_type": "code",
   "execution_count": null,
   "metadata": {},
   "outputs": [],
   "source": []
  }
 ]
}